{
 "cells": [
  {
   "cell_type": "code",
   "execution_count": 1,
   "id": "7357ad2a",
   "metadata": {},
   "outputs": [
    {
     "name": "stdout",
     "output_type": "stream",
     "text": [
      "Requirement already satisfied: mysql in c:\\users\\user\\appdata\\local\\programs\\python\\python39\\lib\\site-packages (0.0.3)\n",
      "Requirement already satisfied: mysqlclient in c:\\users\\user\\appdata\\local\\programs\\python\\python39\\lib\\site-packages (from mysql) (2.1.1)\n"
     ]
    }
   ],
   "source": [
    "!pip install mysql"
   ]
  },
  {
   "cell_type": "code",
   "execution_count": 2,
   "id": "8033076b",
   "metadata": {},
   "outputs": [
    {
     "name": "stdout",
     "output_type": "stream",
     "text": [
      "Requirement already satisfied: mysql.connector in c:\\users\\user\\appdata\\local\\programs\\python\\python39\\lib\\site-packages (2.2.9)\n",
      "Note: you may need to restart the kernel to use updated packages.\n"
     ]
    }
   ],
   "source": [
    "pip install mysql.connector"
   ]
  },
  {
   "cell_type": "code",
   "execution_count": 1,
   "id": "8461d4a6",
   "metadata": {},
   "outputs": [],
   "source": [
    "import mysql.connector"
   ]
  },
  {
   "cell_type": "code",
   "execution_count": 2,
   "id": "a8403d03",
   "metadata": {},
   "outputs": [],
   "source": [
    "try:\n",
    "    conn = mysql.connector.connect(host='localhost',\n",
    "                                         database='archibot',\n",
    "                                         user='root',\n",
    "                                         password='')\n",
    "except mysql.connector.Error as e:\n",
    "    print(\"Error reading data from MySQL table\", e)"
   ]
  },
  {
   "cell_type": "code",
   "execution_count": 3,
   "id": "23b95eec",
   "metadata": {},
   "outputs": [
    {
     "data": {
      "text/plain": [
       "<mysql.connector.connection.MySQLConnection at 0x1f43e4c88e0>"
      ]
     },
     "execution_count": 3,
     "metadata": {},
     "output_type": "execute_result"
    }
   ],
   "source": [
    "conn"
   ]
  },
  {
   "cell_type": "code",
   "execution_count": 4,
   "id": "08a8cdfe",
   "metadata": {},
   "outputs": [
    {
     "name": "stdout",
     "output_type": "stream",
     "text": [
      "Total number of rows in table:  1\n",
      "\n",
      "Printing each row\n",
      "Id =  18\n",
      "Nom =  SANAE\n",
      "Prenom  =  ATTAK\n",
      "CNE  =  AD297054\n",
      "CNI  =  J134085337 \n",
      "\n",
      "cv =  CV.pdf \n"
     ]
    }
   ],
   "source": [
    "sql_select_Query = \"select * from condidat\"\n",
    "cursor = conn.cursor()\n",
    "cursor.execute(sql_select_Query)\n",
    "# get all records\n",
    "records = cursor.fetchall()\n",
    "print(\"Total number of rows in table: \", cursor.rowcount)\n",
    "\n",
    "print(\"\\nPrinting each row\")\n",
    "for row in records:\n",
    "    print(\"Id = \", row[0], )\n",
    "    print(\"Nom = \", row[1])\n",
    "    print(\"Prenom  = \", row[2])\n",
    "    print(\"CNE  = \", row[3])\n",
    "    print(\"CNI  = \", row[4], \"\\n\")\n",
    "    print(\"cv = \",row[7])\n",
    "    cv = row[7]"
   ]
  },
  {
   "cell_type": "code",
   "execution_count": 5,
   "id": "b6956053",
   "metadata": {},
   "outputs": [],
   "source": [
    "cv = cv.replace(\" \",\"\")"
   ]
  },
  {
   "cell_type": "code",
   "execution_count": 6,
   "id": "dbf502c3",
   "metadata": {},
   "outputs": [],
   "source": [
    "class PDF(object):\n",
    "  def __init__(self, pdf, size=(200,200)):\n",
    "    self.pdf = pdf\n",
    "    self.size = size\n",
    "\n",
    "  def _repr_html_(self):\n",
    "    return '<iframe src={0} width={1[0]} height={1[1]}></iframe>'.format(self.pdf, self.size)\n",
    "\n",
    "  def _repr_latex_(self):\n",
    "    return r'\\includegraphics[width=1.0\\textwidth]{{{0}}}'.format(self.pdf)"
   ]
  },
  {
   "cell_type": "code",
   "execution_count": 7,
   "id": "a42f4676",
   "metadata": {},
   "outputs": [],
   "source": [
    "filesrc = 'cv/'+cv"
   ]
  },
  {
   "cell_type": "code",
   "execution_count": 8,
   "id": "6f71f2f4",
   "metadata": {},
   "outputs": [
    {
     "data": {
      "text/plain": [
       "'cv/CV.pdf'"
      ]
     },
     "execution_count": 8,
     "metadata": {},
     "output_type": "execute_result"
    }
   ],
   "source": [
    "filesrc"
   ]
  },
  {
   "cell_type": "code",
   "execution_count": 10,
   "id": "9e8128fe",
   "metadata": {},
   "outputs": [
    {
     "data": {
      "text/html": [
       "<iframe src=cv/CV.pdf width=500 height=450></iframe>"
      ],
      "text/latex": [
       "\\includegraphics[width=1.0\\textwidth]{cv/CV.pdf}"
      ],
      "text/plain": [
       "<__main__.PDF at 0x1f43e4c8c40>"
      ]
     },
     "execution_count": 10,
     "metadata": {},
     "output_type": "execute_result"
    }
   ],
   "source": [
    "PDF(filesrc,size=(500,450))"
   ]
  },
  {
   "cell_type": "code",
   "execution_count": 11,
   "id": "37d8ac71",
   "metadata": {},
   "outputs": [
    {
     "data": {
      "text/plain": [
       "<mysql.connector.connection.MySQLConnection at 0x1f43e4c88e0>"
      ]
     },
     "execution_count": 11,
     "metadata": {},
     "output_type": "execute_result"
    }
   ],
   "source": [
    "conn"
   ]
  },
  {
   "cell_type": "code",
   "execution_count": 13,
   "id": "2febb3eb",
   "metadata": {},
   "outputs": [],
   "source": [
    "import PyPDF2\n",
    "\n",
    "from PIL import Image\n",
    "\n",
    "if __name__ == '__main__':\n",
    "    input1 = PyPDF2.PdfFileReader(open(filesrc,'rb'))\n",
    "    page0 = input1.getPage(0)\n",
    "    xObject = page0['/Resources']['/XObject'].getObject()\n",
    "\n",
    "    for obj in xObject:\n",
    "        if xObject[obj]['/Subtype'] == '/Image':\n",
    "            size = (xObject[obj]['/Width'], xObject[obj]['/Height'])\n",
    "            data = xObject[obj].getData()\n",
    "            if xObject[obj]['/ColorSpace'] == '/DeviceRGB':\n",
    "                mode = \"RGB\"\n",
    "            else:\n",
    "                mode = \"P\"\n",
    "\n",
    "            \n",
    "            if xObject[obj]['/Filter'] == '/DCTDecode':\n",
    "                img = open(obj[1:] + \".jpg\", \"wb\")\n",
    "                img.write(data)\n",
    "                img.close()\n",
    "#             elif xObject[obj]['/Filter'] == '/FlateDecode':\n",
    "#                 img = Image.frombytes(mode, size, data)\n",
    "#                 img.save(obj[1:] + \".png\")\n",
    "#             elif xObject[obj]['/Filter'] == '/JPXDecode':\n",
    "#                 img = open(obj[1:] + \".jp2\", \"wb\")\n",
    "#                 img.write(data)\n",
    "#                 img.close()"
   ]
  },
  {
   "cell_type": "code",
   "execution_count": 61,
   "id": "79e627f7",
   "metadata": {},
   "outputs": [],
   "source": [
    "first_item = list(xObject.items())[0]"
   ]
  },
  {
   "cell_type": "code",
   "execution_count": 62,
   "id": "86d31617",
   "metadata": {},
   "outputs": [
    {
     "data": {
      "text/plain": [
       "{'/Image5': {'/Type': '/XObject',\n",
       "  '/Subtype': '/Image',\n",
       "  '/Width': 30,\n",
       "  '/Height': 21,\n",
       "  '/ColorSpace': '/DeviceRGB',\n",
       "  '/BitsPerComponent': 8,\n",
       "  '/Interpolate': False,\n",
       "  '/SMask': {'/Type': '/XObject',\n",
       "   '/Subtype': '/Image',\n",
       "   '/Width': 30,\n",
       "   '/Height': 21,\n",
       "   '/ColorSpace': '/DeviceGray',\n",
       "   '/Matte': [0, 0, 0],\n",
       "   '/BitsPerComponent': 8,\n",
       "   '/Interpolate': False,\n",
       "   '/Filter': '/FlateDecode'},\n",
       "  '/Filter': '/FlateDecode'},\n",
       " '/Image7': {'/Type': '/XObject',\n",
       "  '/Subtype': '/Image',\n",
       "  '/Width': 16,\n",
       "  '/Height': 16,\n",
       "  '/ColorSpace': '/DeviceRGB',\n",
       "  '/BitsPerComponent': 8,\n",
       "  '/Interpolate': False,\n",
       "  '/SMask': {'/Type': '/XObject',\n",
       "   '/Subtype': '/Image',\n",
       "   '/Width': 16,\n",
       "   '/Height': 16,\n",
       "   '/ColorSpace': '/DeviceGray',\n",
       "   '/Matte': [0, 0, 0],\n",
       "   '/BitsPerComponent': 8,\n",
       "   '/Interpolate': False,\n",
       "   '/Filter': '/FlateDecode'},\n",
       "  '/Filter': '/FlateDecode'},\n",
       " '/Image9': {'/Type': '/XObject',\n",
       "  '/Subtype': '/Image',\n",
       "  '/Width': 236,\n",
       "  '/Height': 356,\n",
       "  '/ColorSpace': '/DeviceRGB',\n",
       "  '/BitsPerComponent': 8,\n",
       "  '/Filter': '/DCTDecode',\n",
       "  '/Interpolate': True,\n",
       "  '/SMask': {'/Type': '/XObject',\n",
       "   '/Subtype': '/Image',\n",
       "   '/Width': 236,\n",
       "   '/Height': 356,\n",
       "   '/ColorSpace': '/DeviceGray',\n",
       "   '/Matte': [0, 0, 0],\n",
       "   '/BitsPerComponent': 8,\n",
       "   '/Interpolate': False,\n",
       "   '/Filter': '/FlateDecode'}},\n",
       " '/Image11': {'/Type': '/XObject',\n",
       "  '/Subtype': '/Image',\n",
       "  '/Width': 19,\n",
       "  '/Height': 19,\n",
       "  '/ColorSpace': '/DeviceRGB',\n",
       "  '/BitsPerComponent': 8,\n",
       "  '/Interpolate': False,\n",
       "  '/SMask': {'/Type': '/XObject',\n",
       "   '/Subtype': '/Image',\n",
       "   '/Width': 19,\n",
       "   '/Height': 19,\n",
       "   '/ColorSpace': '/DeviceGray',\n",
       "   '/Matte': [0, 0, 0],\n",
       "   '/BitsPerComponent': 8,\n",
       "   '/Interpolate': False,\n",
       "   '/Filter': '/FlateDecode'},\n",
       "  '/Filter': '/FlateDecode'},\n",
       " '/Image57': {'/Type': '/XObject',\n",
       "  '/Subtype': '/Image',\n",
       "  '/Width': 16,\n",
       "  '/Height': 26,\n",
       "  '/ColorSpace': '/DeviceRGB',\n",
       "  '/BitsPerComponent': 8,\n",
       "  '/Interpolate': False,\n",
       "  '/SMask': {'/Type': '/XObject',\n",
       "   '/Subtype': '/Image',\n",
       "   '/Width': 16,\n",
       "   '/Height': 26,\n",
       "   '/ColorSpace': '/DeviceGray',\n",
       "   '/Matte': [0, 0, 0],\n",
       "   '/BitsPerComponent': 8,\n",
       "   '/Interpolate': False,\n",
       "   '/Filter': '/FlateDecode'},\n",
       "  '/Filter': '/FlateDecode'},\n",
       " '/Image69': {'/Type': '/XObject',\n",
       "  '/Subtype': '/Image',\n",
       "  '/Width': 241,\n",
       "  '/Height': 207,\n",
       "  '/ColorSpace': '/DeviceRGB',\n",
       "  '/BitsPerComponent': 8,\n",
       "  '/Filter': '/DCTDecode',\n",
       "  '/Interpolate': True},\n",
       " '/Image70': {'/Type': '/XObject',\n",
       "  '/Subtype': '/Image',\n",
       "  '/Width': 26,\n",
       "  '/Height': 26,\n",
       "  '/ColorSpace': '/DeviceRGB',\n",
       "  '/BitsPerComponent': 8,\n",
       "  '/Interpolate': False,\n",
       "  '/SMask': {'/Type': '/XObject',\n",
       "   '/Subtype': '/Image',\n",
       "   '/Width': 26,\n",
       "   '/Height': 26,\n",
       "   '/ColorSpace': '/DeviceGray',\n",
       "   '/Matte': [0, 0, 0],\n",
       "   '/BitsPerComponent': 8,\n",
       "   '/Interpolate': False,\n",
       "   '/Filter': '/FlateDecode'},\n",
       "  '/Filter': '/FlateDecode'}}"
      ]
     },
     "execution_count": 62,
     "metadata": {},
     "output_type": "execute_result"
    }
   ],
   "source": [
    "xObject"
   ]
  },
  {
   "cell_type": "code",
   "execution_count": 63,
   "id": "c14e1b2d",
   "metadata": {},
   "outputs": [
    {
     "data": {
      "text/plain": [
       "'/Image5'"
      ]
     },
     "execution_count": 63,
     "metadata": {},
     "output_type": "execute_result"
    }
   ],
   "source": [
    "first_item[0]"
   ]
  },
  {
   "cell_type": "code",
   "execution_count": null,
   "id": "5af88795",
   "metadata": {},
   "outputs": [],
   "source": []
  }
 ],
 "metadata": {
  "kernelspec": {
   "display_name": "Python 3 (ipykernel)",
   "language": "python",
   "name": "python3"
  },
  "language_info": {
   "codemirror_mode": {
    "name": "ipython",
    "version": 3
   },
   "file_extension": ".py",
   "mimetype": "text/x-python",
   "name": "python",
   "nbconvert_exporter": "python",
   "pygments_lexer": "ipython3",
   "version": "3.9.12"
  }
 },
 "nbformat": 4,
 "nbformat_minor": 5
}
