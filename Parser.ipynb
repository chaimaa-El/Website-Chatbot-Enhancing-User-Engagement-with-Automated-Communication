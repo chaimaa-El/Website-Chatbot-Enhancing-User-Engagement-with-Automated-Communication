{
 "cells": [
  {
   "cell_type": "markdown",
   "metadata": {
    "id": "e5thEcvuiz0e"
   },
   "source": [
    "#Extract text(phone) from pdf "
   ]
  },
  {
   "cell_type": "code",
   "execution_count": 7,
   "metadata": {
    "id": "XaknkI8dIO9R"
   },
   "outputs": [],
   "source": [
    "def extract_phone_number(resume_text):\n",
    "    phone = re.findall(PHONE_REG, resume_text)\n",
    " \n",
    "    if phone:\n",
    "        number = ''.join(phone[0])\n",
    " \n",
    "        if resume_text.find(number)>= 0 and len(number) < 16:\n",
    "            return number\n",
    "    return None\n",
    "def getPhone(path):\n",
    "  import PyPDF2\n",
    " \n",
    "  #create file object variable\n",
    "  #opening method will be rb\n",
    "  pdffileobj=open(path,'rb')\n",
    "  \n",
    "  #create reader variable that will read the pdffileobj\n",
    "  pdfreader=PyPDF2.PdfFileReader(pdffileobj)\n",
    "  \n",
    "  #This will store the number of pages of this pdf file\n",
    "  x=pdfreader.numPages\n",
    "  \n",
    "  #create a variable that will select the selected number of pages\n",
    "  pageobj=pdfreader.getPage(0)\n",
    "  \n",
    "  #(x+1) because python indentation starts with 0.\n",
    "  #create text variable which will store all text datafrom pdf file\n",
    "  text=pageobj.extractText()\n",
    "  phone_number = extract_phone_number(text)\n",
    "  return phone_number"
   ]
  },
  {
   "cell_type": "code",
   "execution_count": 8,
   "metadata": {},
   "outputs": [],
   "source": [
    "import re"
   ]
  },
  {
   "cell_type": "code",
   "execution_count": 9,
   "metadata": {
    "colab": {
     "base_uri": "https://localhost:8080/",
     "height": 35
    },
    "id": "_8XlIiatqgzY",
    "outputId": "848566f0-b8b2-4d3b-aa7a-08a970350589"
   },
   "outputs": [
    {
     "data": {
      "text/plain": [
       "'6.17.24.25.08'"
      ]
     },
     "execution_count": 9,
     "metadata": {},
     "output_type": "execute_result"
    }
   ],
   "source": [
    "getPhone('CV.pdf')"
   ]
  },
  {
   "cell_type": "markdown",
   "metadata": {
    "id": "lWWKPh0gjAlX"
   },
   "source": [
    "#Extract Name from pdf"
   ]
  },
  {
   "cell_type": "code",
   "execution_count": 11,
   "metadata": {
    "colab": {
     "base_uri": "https://localhost:8080/"
    },
    "id": "iSMpw7vQkkgF",
    "outputId": "c320a702-3426-457c-f0f8-79e618819d8a"
   },
   "outputs": [
    {
     "name": "stdout",
     "output_type": "stream",
     "text": [
      "Requirement already satisfied: pyresparser in c:\\users\\user\\appdata\\local\\programs\\python\\python39\\lib\\site-packages (1.0.6)\n",
      "Requirement already satisfied: idna>=2.8 in c:\\users\\user\\appdata\\local\\programs\\python\\python39\\lib\\site-packages (from pyresparser) (3.3)\n",
      "Requirement already satisfied: jsonschema>=3.0.1 in c:\\users\\user\\appdata\\local\\programs\\python\\python39\\lib\\site-packages (from pyresparser) (4.7.2)\n",
      "Requirement already satisfied: urllib3>=1.25.3 in c:\\users\\user\\appdata\\local\\programs\\python\\python39\\lib\\site-packages (from pyresparser) (1.26.10)\n",
      "Requirement already satisfied: numpy>=1.16.4 in c:\\users\\user\\appdata\\local\\programs\\python\\python39\\lib\\site-packages (from pyresparser) (1.19.5)\n",
      "Requirement already satisfied: spacy>=2.1.4 in c:\\users\\user\\appdata\\local\\programs\\python\\python39\\lib\\site-packages (from pyresparser) (3.4.1)\n",
      "Requirement already satisfied: nltk>=3.4.3 in c:\\users\\user\\appdata\\local\\programs\\python\\python39\\lib\\site-packages (from pyresparser) (3.7)\n",
      "Requirement already satisfied: tqdm>=4.32.2 in c:\\users\\user\\appdata\\local\\programs\\python\\python39\\lib\\site-packages (from pyresparser) (4.64.0)\n",
      "Requirement already satisfied: srsly>=0.0.7 in c:\\users\\user\\appdata\\local\\programs\\python\\python39\\lib\\site-packages (from pyresparser) (2.4.4)\n",
      "Requirement already satisfied: cymem>=2.0.2 in c:\\users\\user\\appdata\\local\\programs\\python\\python39\\lib\\site-packages (from pyresparser) (2.0.6)\n",
      "Requirement already satisfied: requests>=2.22.0 in c:\\users\\user\\appdata\\local\\programs\\python\\python39\\lib\\site-packages (from pyresparser) (2.28.1)\n",
      "Requirement already satisfied: pandas>=0.24.2 in c:\\users\\user\\appdata\\local\\programs\\python\\python39\\lib\\site-packages (from pyresparser) (1.4.3)\n",
      "Requirement already satisfied: docx2txt>=0.7 in c:\\users\\user\\appdata\\local\\programs\\python\\python39\\lib\\site-packages (from pyresparser) (0.8)\n",
      "Requirement already satisfied: python-dateutil>=2.8.0 in c:\\users\\user\\appdata\\local\\programs\\python\\python39\\lib\\site-packages (from pyresparser) (2.8.2)\n",
      "Requirement already satisfied: pyrsistent>=0.15.2 in c:\\users\\user\\appdata\\local\\programs\\python\\python39\\lib\\site-packages (from pyresparser) (0.18.1)\n",
      "Requirement already satisfied: thinc>=7.0.4 in c:\\users\\user\\appdata\\local\\programs\\python\\python39\\lib\\site-packages (from pyresparser) (8.1.0)\n",
      "Requirement already satisfied: pycryptodome>=3.8.2 in c:\\users\\user\\appdata\\local\\programs\\python\\python39\\lib\\site-packages (from pyresparser) (3.15.0)\n",
      "Requirement already satisfied: sortedcontainers>=2.1.0 in c:\\users\\user\\appdata\\local\\programs\\python\\python39\\lib\\site-packages (from pyresparser) (2.4.0)\n",
      "Requirement already satisfied: pdfminer.six>=20181108 in c:\\users\\user\\appdata\\local\\programs\\python\\python39\\lib\\site-packages (from pyresparser) (20220524)\n",
      "Requirement already satisfied: attrs>=19.1.0 in c:\\users\\user\\appdata\\local\\programs\\python\\python39\\lib\\site-packages (from pyresparser) (21.4.0)\n",
      "Requirement already satisfied: pytz>=2019.1 in c:\\users\\user\\appdata\\local\\programs\\python\\python39\\lib\\site-packages (from pyresparser) (2022.1)\n",
      "Requirement already satisfied: preshed>=2.0.1 in c:\\users\\user\\appdata\\local\\programs\\python\\python39\\lib\\site-packages (from pyresparser) (3.0.7)\n",
      "Requirement already satisfied: blis>=0.2.4 in c:\\users\\user\\appdata\\local\\programs\\python\\python39\\lib\\site-packages (from pyresparser) (0.7.8)\n",
      "Requirement already satisfied: wasabi>=0.2.2 in c:\\users\\user\\appdata\\local\\programs\\python\\python39\\lib\\site-packages (from pyresparser) (0.10.1)\n",
      "Requirement already satisfied: certifi>=2019.6.16 in c:\\users\\user\\appdata\\local\\programs\\python\\python39\\lib\\site-packages (from pyresparser) (2022.6.15)\n",
      "Requirement already satisfied: six>=1.12.0 in c:\\users\\user\\appdata\\local\\programs\\python\\python39\\lib\\site-packages (from pyresparser) (1.15.0)\n",
      "Requirement already satisfied: chardet>=3.0.4 in c:\\users\\user\\appdata\\local\\programs\\python\\python39\\lib\\site-packages (from pyresparser) (5.0.0)\n",
      "Requirement already satisfied: regex>=2021.8.3 in c:\\users\\user\\appdata\\local\\programs\\python\\python39\\lib\\site-packages (from nltk>=3.4.3->pyresparser) (2022.8.17)\n",
      "Requirement already satisfied: click in c:\\users\\user\\appdata\\local\\programs\\python\\python39\\lib\\site-packages (from nltk>=3.4.3->pyresparser) (8.1.3)\n",
      "Requirement already satisfied: joblib in c:\\users\\user\\appdata\\local\\programs\\python\\python39\\lib\\site-packages (from nltk>=3.4.3->pyresparser) (1.1.0)\n",
      "Requirement already satisfied: charset-normalizer>=2.0.0 in c:\\users\\user\\appdata\\local\\programs\\python\\python39\\lib\\site-packages (from pdfminer.six>=20181108->pyresparser) (2.1.0)\n",
      "Requirement already satisfied: cryptography>=36.0.0 in c:\\users\\user\\appdata\\local\\programs\\python\\python39\\lib\\site-packages (from pdfminer.six>=20181108->pyresparser) (37.0.4)\n",
      "Requirement already satisfied: murmurhash<1.1.0,>=0.28.0 in c:\\users\\user\\appdata\\local\\programs\\python\\python39\\lib\\site-packages (from preshed>=2.0.1->pyresparser) (1.0.8)\n",
      "Requirement already satisfied: catalogue<2.1.0,>=2.0.6 in c:\\users\\user\\appdata\\local\\programs\\python\\python39\\lib\\site-packages (from spacy>=2.1.4->pyresparser) (2.0.8)\n",
      "Requirement already satisfied: spacy-legacy<3.1.0,>=3.0.9 in c:\\users\\user\\appdata\\local\\programs\\python\\python39\\lib\\site-packages (from spacy>=2.1.4->pyresparser) (3.0.10)\n",
      "Requirement already satisfied: packaging>=20.0 in c:\\users\\user\\appdata\\local\\programs\\python\\python39\\lib\\site-packages (from spacy>=2.1.4->pyresparser) (21.3)\n",
      "Requirement already satisfied: jinja2 in c:\\users\\user\\appdata\\local\\programs\\python\\python39\\lib\\site-packages (from spacy>=2.1.4->pyresparser) (3.1.2)\n",
      "Requirement already satisfied: pydantic!=1.8,!=1.8.1,<1.10.0,>=1.7.4 in c:\\users\\user\\appdata\\local\\programs\\python\\python39\\lib\\site-packages (from spacy>=2.1.4->pyresparser) (1.9.2)\n",
      "Requirement already satisfied: typer<0.5.0,>=0.3.0 in c:\\users\\user\\appdata\\local\\programs\\python\\python39\\lib\\site-packages (from spacy>=2.1.4->pyresparser) (0.4.2)\n",
      "Requirement already satisfied: setuptools in c:\\users\\user\\appdata\\local\\programs\\python\\python39\\lib\\site-packages (from spacy>=2.1.4->pyresparser) (63.2.0)\n",
      "Requirement already satisfied: spacy-loggers<2.0.0,>=1.0.0 in c:\\users\\user\\appdata\\local\\programs\\python\\python39\\lib\\site-packages (from spacy>=2.1.4->pyresparser) (1.0.3)\n",
      "Requirement already satisfied: pathy>=0.3.5 in c:\\users\\user\\appdata\\local\\programs\\python\\python39\\lib\\site-packages (from spacy>=2.1.4->pyresparser) (0.6.2)\n",
      "Requirement already satisfied: langcodes<4.0.0,>=3.2.0 in c:\\users\\user\\appdata\\local\\programs\\python\\python39\\lib\\site-packages (from spacy>=2.1.4->pyresparser) (3.3.0)\n",
      "Requirement already satisfied: colorama in c:\\users\\user\\appdata\\local\\programs\\python\\python39\\lib\\site-packages (from tqdm>=4.32.2->pyresparser) (0.4.5)\n",
      "Requirement already satisfied: cffi>=1.12 in c:\\users\\user\\appdata\\local\\programs\\python\\python39\\lib\\site-packages (from cryptography>=36.0.0->pdfminer.six>=20181108->pyresparser) (1.15.1)\n",
      "Requirement already satisfied: pyparsing!=3.0.5,>=2.0.2 in c:\\users\\user\\appdata\\local\\programs\\python\\python39\\lib\\site-packages (from packaging>=20.0->spacy>=2.1.4->pyresparser) (3.0.9)\n",
      "Requirement already satisfied: smart-open<6.0.0,>=5.2.1 in c:\\users\\user\\appdata\\local\\programs\\python\\python39\\lib\\site-packages (from pathy>=0.3.5->spacy>=2.1.4->pyresparser) (5.2.1)\n",
      "Requirement already satisfied: typing-extensions>=3.7.4.3 in c:\\users\\user\\appdata\\local\\programs\\python\\python39\\lib\\site-packages (from pydantic!=1.8,!=1.8.1,<1.10.0,>=1.7.4->spacy>=2.1.4->pyresparser) (4.3.0)\n",
      "Requirement already satisfied: MarkupSafe>=2.0 in c:\\users\\user\\appdata\\local\\programs\\python\\python39\\lib\\site-packages (from jinja2->spacy>=2.1.4->pyresparser) (2.1.1)\n",
      "Requirement already satisfied: pycparser in c:\\users\\user\\appdata\\local\\programs\\python\\python39\\lib\\site-packages (from cffi>=1.12->cryptography>=36.0.0->pdfminer.six>=20181108->pyresparser) (2.21)\n",
      "Note: you may need to restart the kernel to use updated packages.\n"
     ]
    }
   ],
   "source": [
    "pip install pyresparser"
   ]
  },
  {
   "cell_type": "code",
   "execution_count": 13,
   "metadata": {
    "id": "eSCtNSPLjbQu"
   },
   "outputs": [],
   "source": [
    "import nltk"
   ]
  },
  {
   "cell_type": "code",
   "execution_count": 14,
   "metadata": {
    "colab": {
     "base_uri": "https://localhost:8080/"
    },
    "id": "3oP56lcMjeij",
    "outputId": "e5a63151-c1dd-427e-ab0e-db8b997d0fc5"
   },
   "outputs": [
    {
     "name": "stderr",
     "output_type": "stream",
     "text": [
      "[nltk_data] Downloading package stopwords to\n",
      "[nltk_data]     C:\\Users\\user\\AppData\\Roaming\\nltk_data...\n",
      "[nltk_data]   Package stopwords is already up-to-date!\n"
     ]
    },
    {
     "data": {
      "text/plain": [
       "True"
      ]
     },
     "execution_count": 14,
     "metadata": {},
     "output_type": "execute_result"
    }
   ],
   "source": [
    "nltk.download('stopwords')"
   ]
  },
  {
   "cell_type": "code",
   "execution_count": 15,
   "metadata": {
    "colab": {
     "base_uri": "https://localhost:8080/"
    },
    "id": "zVPBNN8bjiFh",
    "outputId": "f61a588e-18b3-4799-9447-b8230fae78b3"
   },
   "outputs": [
    {
     "name": "stdout",
     "output_type": "stream",
     "text": [
      "Collecting docx\n",
      "  Downloading docx-0.2.4.tar.gz (54 kB)\n",
      "     -------------------------------------- 54.9/54.9 kB 410.0 kB/s eta 0:00:00\n",
      "  Preparing metadata (setup.py): started\n",
      "  Preparing metadata (setup.py): finished with status 'done'\n",
      "Requirement already satisfied: lxml in c:\\users\\user\\appdata\\local\\programs\\python\\python39\\lib\\site-packages (from docx) (4.9.1)\n",
      "Requirement already satisfied: Pillow>=2.0 in c:\\users\\user\\appdata\\local\\programs\\python\\python39\\lib\\site-packages (from docx) (9.2.0)\n",
      "Building wheels for collected packages: docx\n",
      "  Building wheel for docx (setup.py): started\n",
      "  Building wheel for docx (setup.py): finished with status 'done'\n",
      "  Created wheel for docx: filename=docx-0.2.4-py3-none-any.whl size=53897 sha256=5f65e566a87bd8318f90d1e3213dd83e0fef1580713c9016a3510510b56aacb2\n",
      "  Stored in directory: c:\\users\\user\\appdata\\local\\pip\\cache\\wheels\\0f\\8e\\9d\\7003eed35a84cf960876aae6bdf60d02041ddfcca66eceee94\n",
      "Successfully built docx\n",
      "Installing collected packages: docx\n",
      "Successfully installed docx-0.2.4\n",
      "Note: you may need to restart the kernel to use updated packages.\n"
     ]
    }
   ],
   "source": [
    "pip install docx"
   ]
  },
  {
   "cell_type": "code",
   "execution_count": 16,
   "metadata": {
    "colab": {
     "base_uri": "https://localhost:8080/"
    },
    "id": "ubPIc-ChjkV_",
    "outputId": "9c5132d3-3880-4f9b-bce1-63d27213eb7d"
   },
   "outputs": [
    {
     "name": "stdout",
     "output_type": "stream",
     "text": [
      "Collecting python-docx\n",
      "  Downloading python-docx-0.8.11.tar.gz (5.6 MB)\n",
      "     ---------------------------------------- 5.6/5.6 MB 185.7 kB/s eta 0:00:00\n",
      "  Preparing metadata (setup.py): started\n",
      "  Preparing metadata (setup.py): finished with status 'done'\n",
      "Requirement already satisfied: lxml>=2.3.2 in c:\\users\\user\\appdata\\local\\programs\\python\\python39\\lib\\site-packages (from python-docx) (4.9.1)\n",
      "Building wheels for collected packages: python-docx\n",
      "  Building wheel for python-docx (setup.py): started\n",
      "  Building wheel for python-docx (setup.py): finished with status 'done'\n",
      "  Created wheel for python-docx: filename=python_docx-0.8.11-py3-none-any.whl size=184489 sha256=b1c37d10aa443b7a971647bd30e824ebb7a5342715909449219796011bc672f8\n",
      "  Stored in directory: c:\\users\\user\\appdata\\local\\pip\\cache\\wheels\\83\\8b\\7c\\09ae60c42c7ba4ed2dddaf2b8b9186cb105255856d6ed3dba5\n",
      "Successfully built python-docx\n",
      "Installing collected packages: python-docx\n",
      "Successfully installed python-docx-0.8.11\n",
      "Note: you may need to restart the kernel to use updated packages.\n"
     ]
    }
   ],
   "source": [
    "pip install python-docx"
   ]
  },
  {
   "cell_type": "code",
   "execution_count": 17,
   "metadata": {
    "colab": {
     "base_uri": "https://localhost:8080/"
    },
    "id": "upm5WNKqjlZJ",
    "outputId": "98027d2f-d6f0-43b6-e9f6-1767e30d844d",
    "scrolled": true
   },
   "outputs": [
    {
     "name": "stdout",
     "output_type": "stream",
     "text": [
      "Collecting https://github.com/explosion/spacy-models/releases/download/en_core_web_sm-2.3.1/en_core_web_sm-2.3.1.tar.gzNote: you may need to restart the kernel to use updated packages.\n",
      "\n",
      "  Downloading https://github.com/explosion/spacy-models/releases/download/en_core_web_sm-2.3.1/en_core_web_sm-2.3.1.tar.gz (12.0 MB)\n",
      "     -------------------------------------- 12.0/12.0 MB 157.1 kB/s eta 0:00:00\n",
      "  Preparing metadata (setup.py): started\n",
      "  Preparing metadata (setup.py): finished with status 'done'\n",
      "Collecting spacy<2.4.0,>=2.3.0\n",
      "  Downloading spacy-2.3.7-cp39-cp39-win_amd64.whl (9.4 MB)\n",
      "     ---------------------------------------- 9.4/9.4 MB 207.9 kB/s eta 0:00:00\n",
      "Requirement already satisfied: blis<0.8.0,>=0.4.0 in c:\\users\\user\\appdata\\local\\programs\\python\\python39\\lib\\site-packages (from spacy<2.4.0,>=2.3.0->en-core-web-sm==2.3.1) (0.7.8)\n",
      "Requirement already satisfied: cymem<2.1.0,>=2.0.2 in c:\\users\\user\\appdata\\local\\programs\\python\\python39\\lib\\site-packages (from spacy<2.4.0,>=2.3.0->en-core-web-sm==2.3.1) (2.0.6)\n",
      "Requirement already satisfied: setuptools in c:\\users\\user\\appdata\\local\\programs\\python\\python39\\lib\\site-packages (from spacy<2.4.0,>=2.3.0->en-core-web-sm==2.3.1) (63.2.0)\n",
      "Requirement already satisfied: wasabi<1.1.0,>=0.4.0 in c:\\users\\user\\appdata\\local\\programs\\python\\python39\\lib\\site-packages (from spacy<2.4.0,>=2.3.0->en-core-web-sm==2.3.1) (0.10.1)\n",
      "Collecting thinc<7.5.0,>=7.4.1\n",
      "  Downloading thinc-7.4.5-cp39-cp39-win_amd64.whl (904 kB)\n",
      "     ------------------------------------- 904.0/904.0 kB 52.2 kB/s eta 0:00:00\n",
      "Requirement already satisfied: murmurhash<1.1.0,>=0.28.0 in c:\\users\\user\\appdata\\local\\programs\\python\\python39\\lib\\site-packages (from spacy<2.4.0,>=2.3.0->en-core-web-sm==2.3.1) (1.0.8)\n",
      "Requirement already satisfied: numpy>=1.15.0 in c:\\users\\user\\appdata\\local\\programs\\python\\python39\\lib\\site-packages (from spacy<2.4.0,>=2.3.0->en-core-web-sm==2.3.1) (1.19.5)\n",
      "Collecting plac<1.2.0,>=0.9.6\n",
      "  Downloading plac-1.1.3-py2.py3-none-any.whl (20 kB)\n",
      "Requirement already satisfied: preshed<3.1.0,>=3.0.2 in c:\\users\\user\\appdata\\local\\programs\\python\\python39\\lib\\site-packages (from spacy<2.4.0,>=2.3.0->en-core-web-sm==2.3.1) (3.0.7)\n",
      "Requirement already satisfied: requests<3.0.0,>=2.13.0 in c:\\users\\user\\appdata\\local\\programs\\python\\python39\\lib\\site-packages (from spacy<2.4.0,>=2.3.0->en-core-web-sm==2.3.1) (2.28.1)\n",
      "Collecting catalogue<1.1.0,>=0.0.7\n",
      "  Downloading catalogue-1.0.0-py2.py3-none-any.whl (7.7 kB)\n",
      "Requirement already satisfied: tqdm<5.0.0,>=4.38.0 in c:\\users\\user\\appdata\\local\\programs\\python\\python39\\lib\\site-packages (from spacy<2.4.0,>=2.3.0->en-core-web-sm==2.3.1) (4.64.0)\n",
      "Collecting srsly<1.1.0,>=1.0.2\n",
      "  Downloading srsly-1.0.5-cp39-cp39-win_amd64.whl (177 kB)\n",
      "     ------------------------------------- 177.8/177.8 kB 51.8 kB/s eta 0:00:00\n",
      "Requirement already satisfied: certifi>=2017.4.17 in c:\\users\\user\\appdata\\local\\programs\\python\\python39\\lib\\site-packages (from requests<3.0.0,>=2.13.0->spacy<2.4.0,>=2.3.0->en-core-web-sm==2.3.1) (2022.6.15)\n",
      "Requirement already satisfied: urllib3<1.27,>=1.21.1 in c:\\users\\user\\appdata\\local\\programs\\python\\python39\\lib\\site-packages (from requests<3.0.0,>=2.13.0->spacy<2.4.0,>=2.3.0->en-core-web-sm==2.3.1) (1.26.10)\n",
      "Requirement already satisfied: charset-normalizer<3,>=2 in c:\\users\\user\\appdata\\local\\programs\\python\\python39\\lib\\site-packages (from requests<3.0.0,>=2.13.0->spacy<2.4.0,>=2.3.0->en-core-web-sm==2.3.1) (2.1.0)\n",
      "Requirement already satisfied: idna<4,>=2.5 in c:\\users\\user\\appdata\\local\\programs\\python\\python39\\lib\\site-packages (from requests<3.0.0,>=2.13.0->spacy<2.4.0,>=2.3.0->en-core-web-sm==2.3.1) (3.3)\n",
      "Requirement already satisfied: colorama in c:\\users\\user\\appdata\\local\\programs\\python\\python39\\lib\\site-packages (from tqdm<5.0.0,>=4.38.0->spacy<2.4.0,>=2.3.0->en-core-web-sm==2.3.1) (0.4.5)\n",
      "Building wheels for collected packages: en-core-web-sm\n",
      "  Building wheel for en-core-web-sm (setup.py): started\n",
      "  Building wheel for en-core-web-sm (setup.py): finished with status 'done'\n",
      "  Created wheel for en-core-web-sm: filename=en_core_web_sm-2.3.1-py3-none-any.whl size=12047086 sha256=8aadb611eaf0e4d040d6f517f30f02bd47fa7c051a45601562df417744abfe2f\n",
      "  Stored in directory: c:\\users\\user\\appdata\\local\\pip\\cache\\wheels\\19\\d6\\1c\\5484b95647df5d7afaf74abde458c66c1cd427e69e801fe826\n",
      "Successfully built en-core-web-sm\n",
      "Installing collected packages: srsly, plac, catalogue, thinc, spacy, en-core-web-sm\n",
      "  Attempting uninstall: srsly\n",
      "    Found existing installation: srsly 2.4.4\n",
      "    Uninstalling srsly-2.4.4:\n",
      "      Successfully uninstalled srsly-2.4.4\n",
      "  Attempting uninstall: catalogue\n",
      "    Found existing installation: catalogue 2.0.8\n",
      "    Uninstalling catalogue-2.0.8:\n",
      "      Successfully uninstalled catalogue-2.0.8\n",
      "  Attempting uninstall: thinc\n",
      "    Found existing installation: thinc 8.1.0\n",
      "    Uninstalling thinc-8.1.0:\n",
      "      Successfully uninstalled thinc-8.1.0\n",
      "  Attempting uninstall: spacy\n",
      "    Found existing installation: spacy 3.4.1\n",
      "    Uninstalling spacy-3.4.1:\n",
      "      Successfully uninstalled spacy-3.4.1\n",
      "  Attempting uninstall: en-core-web-sm\n",
      "    Found existing installation: en-core-web-sm 3.4.0\n",
      "    Uninstalling en-core-web-sm-3.4.0:\n",
      "      Successfully uninstalled en-core-web-sm-3.4.0\n",
      "Successfully installed catalogue-1.0.0 en-core-web-sm-2.3.1 plac-1.1.3 spacy-2.3.7 srsly-1.0.5 thinc-7.4.5\n"
     ]
    }
   ],
   "source": [
    "pip install https://github.com/explosion/spacy-models/releases/download/en_core_web_sm-2.3.1/en_core_web_sm-2.3.1.tar.gz"
   ]
  },
  {
   "cell_type": "code",
   "execution_count": 21,
   "metadata": {
    "colab": {
     "base_uri": "https://localhost:8080/"
    },
    "id": "0svhBDp8jpiM",
    "outputId": "6ef3752c-60e5-4077-9202-04f4389d0935"
   },
   "outputs": [
    {
     "name": "stdout",
     "output_type": "stream",
     "text": [
      "Collecting spacy==2.3.1\n",
      "  Downloading spacy-2.3.1.tar.gz (5.9 MB)\n",
      "     ---------------------------------------- 5.9/5.9 MB 101.9 kB/s eta 0:00:00\n",
      "  Installing build dependencies: started\n",
      "  Installing build dependencies: still running...\n",
      "  Installing build dependencies: finished with status 'error'\n",
      "Note: you may need to restart the kernel to use updated packages.\n"
     ]
    },
    {
     "name": "stderr",
     "output_type": "stream",
     "text": [
      "  error: subprocess-exited-with-error\n",
      "  \n",
      "  pip subprocess to install build dependencies did not run successfully.\n",
      "  exit code: 2\n",
      "  \n",
      "  [95 lines of output]\n",
      "  Collecting setuptools\n",
      "    Downloading setuptools-65.3.0-py3-none-any.whl (1.2 MB)\n",
      "       ---------------------------------------- 1.2/1.2 MB 106.3 kB/s eta 0:00:00\n",
      "  Collecting wheel\n",
      "    Using cached wheel-0.37.1-py2.py3-none-any.whl (35 kB)\n",
      "  Collecting cython>=0.25\n",
      "    Downloading Cython-0.29.32-py2.py3-none-any.whl (986 kB)\n",
      "       ------------------------------------- 986.3/986.3 kB 41.6 kB/s eta 0:00:00\n",
      "  Collecting cymem<2.1.0,>=2.0.2\n",
      "    Using cached cymem-2.0.6-cp39-cp39-win_amd64.whl (36 kB)\n",
      "  Collecting preshed<3.1.0,>=3.0.2\n",
      "    Using cached preshed-3.0.7-cp39-cp39-win_amd64.whl (96 kB)\n",
      "  Collecting murmurhash<1.1.0,>=0.28.0\n",
      "    Using cached murmurhash-1.0.8-cp39-cp39-win_amd64.whl (18 kB)\n",
      "  Collecting thinc==7.4.1\n",
      "    Downloading thinc-7.4.1.tar.gz (1.3 MB)\n",
      "       ----------------------------             1.0/1.3 MB 40.6 kB/s eta 0:00:10\n",
      "  ERROR: Exception:\n",
      "  Traceback (most recent call last):\n",
      "    File \"C:\\Users\\user\\AppData\\Local\\Programs\\Python\\Python39\\Lib\\site-packages\\pip\\_vendor\\urllib3\\response.py\", line 435, in _error_catcher\n",
      "      yield\n",
      "    File \"C:\\Users\\user\\AppData\\Local\\Programs\\Python\\Python39\\Lib\\site-packages\\pip\\_vendor\\urllib3\\response.py\", line 516, in read\n",
      "      data = self._fp.read(amt) if not fp_closed else b\"\"\n",
      "    File \"C:\\Users\\user\\AppData\\Local\\Programs\\Python\\Python39\\Lib\\site-packages\\pip\\_vendor\\cachecontrol\\filewrapper.py\", line 90, in read\n",
      "      data = self.__fp.read(amt)\n",
      "    File \"C:\\Users\\user\\AppData\\Local\\Programs\\Python\\Python39\\lib\\http\\client.py\", line 463, in read\n",
      "      n = self.readinto(b)\n",
      "    File \"C:\\Users\\user\\AppData\\Local\\Programs\\Python\\Python39\\lib\\http\\client.py\", line 507, in readinto\n",
      "      n = self.fp.readinto(b)\n",
      "    File \"C:\\Users\\user\\AppData\\Local\\Programs\\Python\\Python39\\lib\\socket.py\", line 704, in readinto\n",
      "      return self._sock.recv_into(b)\n",
      "    File \"C:\\Users\\user\\AppData\\Local\\Programs\\Python\\Python39\\lib\\ssl.py\", line 1241, in recv_into\n",
      "      return self.read(nbytes, buffer)\n",
      "    File \"C:\\Users\\user\\AppData\\Local\\Programs\\Python\\Python39\\lib\\ssl.py\", line 1099, in read\n",
      "      return self._sslobj.read(len, buffer)\n",
      "  socket.timeout: The read operation timed out\n",
      "  \n",
      "  During handling of the above exception, another exception occurred:\n",
      "  \n",
      "  Traceback (most recent call last):\n",
      "    File \"C:\\Users\\user\\AppData\\Local\\Programs\\Python\\Python39\\Lib\\site-packages\\pip\\_internal\\cli\\base_command.py\", line 167, in exc_logging_wrapper\n",
      "      status = run_func(*args)\n",
      "    File \"C:\\Users\\user\\AppData\\Local\\Programs\\Python\\Python39\\Lib\\site-packages\\pip\\_internal\\cli\\req_command.py\", line 247, in wrapper\n",
      "      return func(self, options, args)\n",
      "    File \"C:\\Users\\user\\AppData\\Local\\Programs\\Python\\Python39\\Lib\\site-packages\\pip\\_internal\\commands\\install.py\", line 369, in run\n",
      "      requirement_set = resolver.resolve(\n",
      "    File \"C:\\Users\\user\\AppData\\Local\\Programs\\Python\\Python39\\Lib\\site-packages\\pip\\_internal\\resolution\\resolvelib\\resolver.py\", line 92, in resolve\n",
      "      result = self._result = resolver.resolve(\n",
      "    File \"C:\\Users\\user\\AppData\\Local\\Programs\\Python\\Python39\\Lib\\site-packages\\pip\\_vendor\\resolvelib\\resolvers.py\", line 481, in resolve\n",
      "      state = resolution.resolve(requirements, max_rounds=max_rounds)\n",
      "    File \"C:\\Users\\user\\AppData\\Local\\Programs\\Python\\Python39\\Lib\\site-packages\\pip\\_vendor\\resolvelib\\resolvers.py\", line 348, in resolve\n",
      "      self._add_to_criteria(self.state.criteria, r, parent=None)\n",
      "    File \"C:\\Users\\user\\AppData\\Local\\Programs\\Python\\Python39\\Lib\\site-packages\\pip\\_vendor\\resolvelib\\resolvers.py\", line 172, in _add_to_criteria\n",
      "      if not criterion.candidates:\n",
      "    File \"C:\\Users\\user\\AppData\\Local\\Programs\\Python\\Python39\\Lib\\site-packages\\pip\\_vendor\\resolvelib\\structs.py\", line 151, in __bool__\n",
      "      return bool(self._sequence)\n",
      "    File \"C:\\Users\\user\\AppData\\Local\\Programs\\Python\\Python39\\Lib\\site-packages\\pip\\_internal\\resolution\\resolvelib\\found_candidates.py\", line 155, in __bool__\n",
      "      return any(self)\n",
      "    File \"C:\\Users\\user\\AppData\\Local\\Programs\\Python\\Python39\\Lib\\site-packages\\pip\\_internal\\resolution\\resolvelib\\found_candidates.py\", line 143, in <genexpr>\n",
      "      return (c for c in iterator if id(c) not in self._incompatible_ids)\n",
      "    File \"C:\\Users\\user\\AppData\\Local\\Programs\\Python\\Python39\\Lib\\site-packages\\pip\\_internal\\resolution\\resolvelib\\found_candidates.py\", line 47, in _iter_built\n",
      "      candidate = func()\n",
      "    File \"C:\\Users\\user\\AppData\\Local\\Programs\\Python\\Python39\\Lib\\site-packages\\pip\\_internal\\resolution\\resolvelib\\factory.py\", line 206, in _make_candidate_from_link\n",
      "      self._link_candidate_cache[link] = LinkCandidate(\n",
      "    File \"C:\\Users\\user\\AppData\\Local\\Programs\\Python\\Python39\\Lib\\site-packages\\pip\\_internal\\resolution\\resolvelib\\candidates.py\", line 297, in __init__\n",
      "      super().__init__(\n",
      "    File \"C:\\Users\\user\\AppData\\Local\\Programs\\Python\\Python39\\Lib\\site-packages\\pip\\_internal\\resolution\\resolvelib\\candidates.py\", line 162, in __init__\n",
      "      self.dist = self._prepare()\n",
      "    File \"C:\\Users\\user\\AppData\\Local\\Programs\\Python\\Python39\\Lib\\site-packages\\pip\\_internal\\resolution\\resolvelib\\candidates.py\", line 231, in _prepare\n",
      "      dist = self._prepare_distribution()\n",
      "    File \"C:\\Users\\user\\AppData\\Local\\Programs\\Python\\Python39\\Lib\\site-packages\\pip\\_internal\\resolution\\resolvelib\\candidates.py\", line 308, in _prepare_distribution\n",
      "      return preparer.prepare_linked_requirement(self._ireq, parallel_builds=True)\n",
      "    File \"C:\\Users\\user\\AppData\\Local\\Programs\\Python\\Python39\\Lib\\site-packages\\pip\\_internal\\operations\\prepare.py\", line 438, in prepare_linked_requirement\n",
      "      return self._prepare_linked_requirement(req, parallel_builds)\n",
      "    File \"C:\\Users\\user\\AppData\\Local\\Programs\\Python\\Python39\\Lib\\site-packages\\pip\\_internal\\operations\\prepare.py\", line 483, in _prepare_linked_requirement\n",
      "      local_file = unpack_url(\n",
      "    File \"C:\\Users\\user\\AppData\\Local\\Programs\\Python\\Python39\\Lib\\site-packages\\pip\\_internal\\operations\\prepare.py\", line 165, in unpack_url\n",
      "      file = get_http_url(\n",
      "    File \"C:\\Users\\user\\AppData\\Local\\Programs\\Python\\Python39\\Lib\\site-packages\\pip\\_internal\\operations\\prepare.py\", line 106, in get_http_url\n",
      "      from_path, content_type = download(link, temp_dir.path)\n",
      "    File \"C:\\Users\\user\\AppData\\Local\\Programs\\Python\\Python39\\Lib\\site-packages\\pip\\_internal\\network\\download.py\", line 147, in __call__\n",
      "      for chunk in chunks:\n",
      "    File \"C:\\Users\\user\\AppData\\Local\\Programs\\Python\\Python39\\Lib\\site-packages\\pip\\_internal\\cli\\progress_bars.py\", line 53, in _rich_progress_bar\n",
      "      for chunk in iterable:\n",
      "    File \"C:\\Users\\user\\AppData\\Local\\Programs\\Python\\Python39\\Lib\\site-packages\\pip\\_internal\\network\\utils.py\", line 63, in response_chunks\n",
      "      for chunk in response.raw.stream(\n",
      "    File \"C:\\Users\\user\\AppData\\Local\\Programs\\Python\\Python39\\Lib\\site-packages\\pip\\_vendor\\urllib3\\response.py\", line 573, in stream\n",
      "      data = self.read(amt=amt, decode_content=decode_content)\n",
      "    File \"C:\\Users\\user\\AppData\\Local\\Programs\\Python\\Python39\\Lib\\site-packages\\pip\\_vendor\\urllib3\\response.py\", line 538, in read\n",
      "      raise IncompleteRead(self._fp_bytes_read, self.length_remaining)\n",
      "    File \"C:\\Users\\user\\AppData\\Local\\Programs\\Python\\Python39\\lib\\contextlib.py\", line 137, in __exit__\n",
      "      self.gen.throw(typ, value, traceback)\n",
      "    File \"C:\\Users\\user\\AppData\\Local\\Programs\\Python\\Python39\\Lib\\site-packages\\pip\\_vendor\\urllib3\\response.py\", line 440, in _error_catcher\n",
      "      raise ReadTimeoutError(self._pool, None, \"Read timed out.\")\n",
      "  pip._vendor.urllib3.exceptions.ReadTimeoutError: HTTPSConnectionPool(host='files.pythonhosted.org', port=443): Read timed out.\n",
      "  [end of output]\n",
      "  \n",
      "  note: This error originates from a subprocess, and is likely not a problem with pip.\n",
      "error: subprocess-exited-with-error\n",
      "\n",
      "pip subprocess to install build dependencies did not run successfully.\n",
      "exit code: 2\n",
      "\n",
      "See above for output.\n",
      "\n",
      "note: This error originates from a subprocess, and is likely not a problem with pip.\n"
     ]
    }
   ],
   "source": [
    "pip install spacy==2.3.1"
   ]
  },
  {
   "cell_type": "code",
   "execution_count": 1,
   "metadata": {
    "id": "rhQbdHP6mUJq"
   },
   "outputs": [],
   "source": [
    "def getData(path):\n",
    "  from pyresparser import ResumeParser \n",
    "  data=ResumeParser(path).get_extracted_data()\n",
    "  return data['name'],data['email']"
   ]
  },
  {
   "cell_type": "code",
   "execution_count": 2,
   "metadata": {
    "colab": {
     "base_uri": "https://localhost:8080/"
    },
    "id": "LEqRfD5Kq_Sg",
    "outputId": "f5e269fe-0a11-484f-b7c2-7cf646db35f2"
   },
   "outputs": [
    {
     "name": "stderr",
     "output_type": "stream",
     "text": [
      "C:\\Users\\user\\AppData\\Local\\Programs\\Python\\Python39\\lib\\site-packages\\spacy\\util.py:275: UserWarning: [W031] Model 'en_training' (0.0.0) requires spaCy v2.1 and is incompatible with the current spaCy version (2.3.7). This may lead to unexpected results or runtime errors. To resolve this, download a newer compatible model or retrain your custom model with the current spaCy version. For more details and available updates, run: python -m spacy validate\n",
      "  warnings.warn(warn_msg)\n"
     ]
    },
    {
     "data": {
      "text/plain": [
       "('Lotfi Firdaouss', 'lotfi.firdaouss@gmail.com')"
      ]
     },
     "execution_count": 2,
     "metadata": {},
     "output_type": "execute_result"
    }
   ],
   "source": [
    "getData('CV.pdf')"
   ]
  },
  {
   "cell_type": "markdown",
   "metadata": {
    "id": "btyIPgZQoCOz"
   },
   "source": [
    "#Extract Phone from PDF"
   ]
  },
  {
   "cell_type": "code",
   "execution_count": 3,
   "metadata": {
    "colab": {
     "base_uri": "https://localhost:8080/"
    },
    "id": "dkxuhebEoNeo",
    "outputId": "b0599468-c8f5-4d71-8c36-a3730849f813"
   },
   "outputs": [
    {
     "name": "stdout",
     "output_type": "stream",
     "text": [
      "Requirement already satisfied: PyPDF2 in c:\\users\\user\\appdata\\local\\programs\\python\\python39\\lib\\site-packages (2.10.4)\n",
      "Requirement already satisfied: typing-extensions>=3.10.0.0 in c:\\users\\user\\appdata\\local\\programs\\python\\python39\\lib\\site-packages (from PyPDF2) (4.3.0)\n"
     ]
    }
   ],
   "source": [
    "!pip install PyPDF2"
   ]
  },
  {
   "cell_type": "code",
   "execution_count": 5,
   "metadata": {},
   "outputs": [],
   "source": [
    "import re"
   ]
  },
  {
   "cell_type": "code",
   "execution_count": 6,
   "metadata": {
    "colab": {
     "base_uri": "https://localhost:8080/"
    },
    "id": "4o10uAlhoGcO",
    "outputId": "3c56a09e-967d-44c8-e752-f7c37e527e51"
   },
   "outputs": [
    {
     "name": "stdout",
     "output_type": "stream",
     "text": [
      "None\n"
     ]
    }
   ],
   "source": [
    "import PyPDF2\n",
    " \n",
    "#create file object variable\n",
    "#opening method will be rb\n",
    "pdffileobj=open('CV.pdf','rb')\n",
    " \n",
    "#create reader variable that will read the pdffileobj\n",
    "pdfreader=PyPDF2.PdfFileReader(pdffileobj)\n",
    " \n",
    "#This will store the number of pages of this pdf file\n",
    "x=pdfreader.numPages\n",
    " \n",
    "#create a variable that will select the selected number of pages\n",
    "pageobj=pdfreader.getPage(x-1)\n",
    " \n",
    "#(x+1) because python indentation starts with 0.\n",
    "#create text variable which will store all text datafrom pdf file\n",
    "text=pageobj.extractText()\n",
    "PHONE_REG = re.compile(r'[\\+\\(]?[1-9][0-9 .\\-\\(\\)]{8,}[0-9]')\n",
    "\n",
    "\n",
    "def extract_phone_number(resume_text):\n",
    "    phone = re.findall(PHONE_REG, resume_text)\n",
    " \n",
    "    if phone:\n",
    "        number = ''.join(phone[0])\n",
    " \n",
    "        if resume_text.find(number)>= 0 and len(number) < 16:\n",
    "            return number\n",
    "    return None\n",
    "\n",
    "phone_number = extract_phone_number(text)\n",
    "print(phone_number)"
   ]
  },
  {
   "cell_type": "markdown",
   "metadata": {
    "id": "ymExfd7BsMEO"
   },
   "source": [
    "#Extrat image from PDF"
   ]
  },
  {
   "cell_type": "code",
   "execution_count": 10,
   "metadata": {
    "colab": {
     "base_uri": "https://localhost:8080/"
    },
    "id": "GDkn5UTys2uX",
    "outputId": "fbc4a55a-e9ee-4a8d-fd39-61e4cfe24231"
   },
   "outputs": [
    {
     "name": "stderr",
     "output_type": "stream",
     "text": [
      "ERROR: Could not find a version that satisfies the requirement PIL (from versions: none)\n",
      "ERROR: No matching distribution found for PIL\n"
     ]
    }
   ],
   "source": [
    "!pip install PIL"
   ]
  },
  {
   "cell_type": "code",
   "execution_count": 29,
   "metadata": {
    "id": "vNlv44JmsRXn"
   },
   "outputs": [],
   "source": [
    "import PyPDF2\n",
    "\n",
    "from PIL import Image \n",
    "input1 = PyPDF2.PdfFileReader(open('CV2.pdf','rb'))\n",
    "page0 = input1.getPage(0)\n",
    "xObject = page0['/Resources']['/XObject'].getObject()\n",
    "\n",
    "for obj in xObject:\n",
    "    if xObject[obj]['/Subtype'] == '/Image':\n",
    "        size = (xObject[obj]['/Width'], xObject[obj]['/Height'])\n",
    "        data = xObject[obj].getData()\n",
    "        if xObject[obj]['/ColorSpace'] == '/DeviceRGB':\n",
    "            mode = \"RGB\"\n",
    "        else:\n",
    "            mode = \"P\"\n",
    "\n",
    "        \n",
    "        if xObject[obj]['/Filter'] == '/DCTDecode':\n",
    "            img = open(\"CVImage/\"+obj[1:] + \".jpg\", \"wb\")\n",
    "            img.write(data)\n",
    "            img.close()\n",
    "        elif xObject[obj]['/Filter'] == '/FlateDecode':\n",
    "          img = Image.frombytes(mode, size, data)\n",
    "          img.save(\"CVImage/\" +obj[1:] + \".png\")\n",
    "        elif xObject[obj]['/Filter'] == '/JPXDecode':\n",
    "          img = open(\"CVImage/\" + obj[1:] + \".jp2\", \"wb\")\n",
    "          img.write(data)\n",
    "          img.close()"
   ]
  },
  {
   "cell_type": "code",
   "execution_count": 30,
   "metadata": {
    "colab": {
     "base_uri": "https://localhost:8080/"
    },
    "id": "pW7ytzzTtD1p",
    "outputId": "9cc3f00f-1b2b-4507-d373-1ac29d2a8b8b"
   },
   "outputs": [
    {
     "name": "stdout",
     "output_type": "stream",
     "text": [
      "/Image9\n",
      "/Meta13\n",
      "/Image20\n",
      "/Image23\n",
      "/Image25\n",
      "/Image27\n",
      "/Image29\n",
      "/Meta31\n",
      "/Image33\n",
      "/Image35\n",
      "/Image37\n",
      "/Meta44\n",
      "/Image46\n",
      "/Image48\n",
      "/Image50\n",
      "/Image52\n",
      "/Image54\n",
      "/Image56\n",
      "/Image58\n"
     ]
    }
   ],
   "source": [
    "for obj in xObject:\n",
    "    print(obj)"
   ]
  },
  {
   "cell_type": "markdown",
   "metadata": {
    "id": "UYYdh54dnNRm"
   },
   "source": [
    "#EXPORT Data into Mysql"
   ]
  },
  {
   "cell_type": "code",
   "execution_count": 21,
   "metadata": {
    "colab": {
     "base_uri": "https://localhost:8080/"
    },
    "id": "QiWQA47snDng",
    "outputId": "042361ee-1079-4b80-c20e-237c384bcb99"
   },
   "outputs": [
    {
     "name": "stdout",
     "output_type": "stream",
     "text": [
      "Looking in indexes: https://pypi.org/simple, https://us-python.pkg.dev/colab-wheels/public/simple/\n",
      "Collecting mysql\n",
      "  Downloading mysql-0.0.3-py3-none-any.whl (1.2 kB)\n",
      "Collecting mysqlclient\n",
      "  Downloading mysqlclient-2.1.1.tar.gz (88 kB)\n",
      "\u001b[K     |████████████████████████████████| 88 kB 8.9 MB/s \n",
      "\u001b[?25hBuilding wheels for collected packages: mysqlclient\n",
      "  Building wheel for mysqlclient (setup.py) ... \u001b[?25l\u001b[?25hdone\n",
      "  Created wheel for mysqlclient: filename=mysqlclient-2.1.1-cp37-cp37m-linux_x86_64.whl size=99986 sha256=44f08af6f554ff7dcb99860937b5e97a938d459ad181b8deaea9686b53a25b72\n",
      "  Stored in directory: /root/.cache/pip/wheels/95/2d/67/2cb3f82e435fc8e055cb2761a15a0812bf086068f6fb835462\n",
      "Successfully built mysqlclient\n",
      "Installing collected packages: mysqlclient, mysql\n",
      "Successfully installed mysql-0.0.3 mysqlclient-2.1.1\n"
     ]
    }
   ],
   "source": [
    "!pip install mysql"
   ]
  },
  {
   "cell_type": "code",
   "execution_count": 72,
   "metadata": {
    "colab": {
     "base_uri": "https://localhost:8080/"
    },
    "id": "3NqIJ6W-nY22",
    "outputId": "1e314a2c-751b-4d2c-9fc8-adcfb38d257c"
   },
   "outputs": [
    {
     "name": "stdout",
     "output_type": "stream",
     "text": [
      "Looking in indexes: https://pypi.org/simple, https://us-python.pkg.dev/colab-wheels/public/simple/\n",
      "Collecting mysql.connector\n",
      "  Downloading mysql-connector-2.2.9.tar.gz (11.9 MB)\n",
      "\u001b[K     |████████████████████████████████| 11.9 MB 37.0 MB/s \n",
      "\u001b[?25hBuilding wheels for collected packages: mysql.connector\n",
      "  Building wheel for mysql.connector (setup.py) ... \u001b[?25l\u001b[?25hdone\n",
      "  Created wheel for mysql.connector: filename=mysql_connector-2.2.9-cp37-cp37m-linux_x86_64.whl size=247965 sha256=3f81d59d653bc7b35cdb8721ea694be2e704887720dc70627b2775b0c2501060\n",
      "  Stored in directory: /root/.cache/pip/wheels/42/2f/c3/692fc7fc1f0d8c06b9175d94f0fc30f4f92348f5df5af1b8b7\n",
      "Successfully built mysql.connector\n",
      "Installing collected packages: mysql.connector\n",
      "Successfully installed mysql.connector-2.2.9\n"
     ]
    }
   ],
   "source": [
    "!pip install mysql.connector"
   ]
  },
  {
   "cell_type": "code",
   "execution_count": 73,
   "metadata": {
    "id": "Y0UOrRsIrXdb"
   },
   "outputs": [],
   "source": [
    "import mysql.connector"
   ]
  },
  {
   "cell_type": "code",
   "execution_count": 76,
   "metadata": {
    "colab": {
     "base_uri": "https://localhost:8080/"
    },
    "id": "vrGGoH2cra9E",
    "outputId": "29330187-c860-4b5a-81f7-7343a4b61d3c"
   },
   "outputs": [
    {
     "name": "stdout",
     "output_type": "stream",
     "text": [
      "Error reading data from MySQL table 2003: Can't connect to MySQL server on 'localhost:3306' (111 Connection refused)\n"
     ]
    }
   ],
   "source": [
    "try:\n",
    "    conn = mysql.connector.connect(host='localhost',\n",
    "                                         database='archibot',\n",
    "                                         user='root',\n",
    "                                         password='')\n",
    "except mysql.connector.Error as e:\n",
    "    print(\"Error reading data from MySQL table\", e)"
   ]
  },
  {
   "cell_type": "markdown",
   "metadata": {
    "id": "N_4U3i8EvO_E"
   },
   "source": [
    "#Extract Resume text\n",
    "\n"
   ]
  },
  {
   "cell_type": "code",
   "execution_count": 83,
   "metadata": {
    "colab": {
     "base_uri": "https://localhost:8080/"
    },
    "id": "YZ-jkGMxvR2x",
    "outputId": "0ef470b0-0ffc-4912-c527-05cfeb29ae17"
   },
   "outputs": [
    {
     "name": "stdout",
     "output_type": "stream",
     "text": [
      "Looking in indexes: https://pypi.org/simple, https://us-python.pkg.dev/colab-wheels/public/simple/\n",
      "Requirement already satisfied: pdfminer.six in /usr/local/lib/python3.7/dist-packages (20220524)\n",
      "Requirement already satisfied: cryptography>=36.0.0 in /usr/local/lib/python3.7/dist-packages (from pdfminer.six) (38.0.1)\n",
      "Requirement already satisfied: charset-normalizer>=2.0.0 in /usr/local/lib/python3.7/dist-packages (from pdfminer.six) (2.1.1)\n",
      "Requirement already satisfied: cffi>=1.12 in /usr/local/lib/python3.7/dist-packages (from cryptography>=36.0.0->pdfminer.six) (1.15.1)\n",
      "Requirement already satisfied: pycparser in /usr/local/lib/python3.7/dist-packages (from cffi>=1.12->cryptography>=36.0.0->pdfminer.six) (2.21)\n"
     ]
    }
   ],
   "source": [
    "!pip install pdfminer.six"
   ]
  },
  {
   "cell_type": "code",
   "execution_count": 92,
   "metadata": {
    "id": "thbl_evmvU4f"
   },
   "outputs": [],
   "source": [
    "# !rm *.png"
   ]
  }
 ],
 "metadata": {
  "colab": {
   "collapsed_sections": [],
   "provenance": []
  },
  "kernelspec": {
   "display_name": "Python 3 (ipykernel)",
   "language": "python",
   "name": "python3"
  },
  "language_info": {
   "codemirror_mode": {
    "name": "ipython",
    "version": 3
   },
   "file_extension": ".py",
   "mimetype": "text/x-python",
   "name": "python",
   "nbconvert_exporter": "python",
   "pygments_lexer": "ipython3",
   "version": "3.9.12"
  }
 },
 "nbformat": 4,
 "nbformat_minor": 1
}
